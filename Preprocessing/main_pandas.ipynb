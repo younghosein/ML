{
 "cells": [
  {
   "cell_type": "code",
   "execution_count": 57,
   "metadata": {
    "collapsed": true,
    "ExecuteTime": {
     "end_time": "2024-06-07T11:28:41.392957400Z",
     "start_time": "2024-06-07T11:28:41.286447500Z"
    }
   },
   "outputs": [],
   "source": [
    "import pandas as pd"
   ]
  },
  {
   "cell_type": "code",
   "execution_count": 58,
   "outputs": [
    {
     "data": {
      "text/plain": "  name  age\n0    a   28\n1    b   25\n2    c   32",
      "text/html": "<div>\n<style scoped>\n    .dataframe tbody tr th:only-of-type {\n        vertical-align: middle;\n    }\n\n    .dataframe tbody tr th {\n        vertical-align: top;\n    }\n\n    .dataframe thead th {\n        text-align: right;\n    }\n</style>\n<table border=\"1\" class=\"dataframe\">\n  <thead>\n    <tr style=\"text-align: right;\">\n      <th></th>\n      <th>name</th>\n      <th>age</th>\n    </tr>\n  </thead>\n  <tbody>\n    <tr>\n      <th>0</th>\n      <td>a</td>\n      <td>28</td>\n    </tr>\n    <tr>\n      <th>1</th>\n      <td>b</td>\n      <td>25</td>\n    </tr>\n    <tr>\n      <th>2</th>\n      <td>c</td>\n      <td>32</td>\n    </tr>\n  </tbody>\n</table>\n</div>"
     },
     "execution_count": 58,
     "metadata": {},
     "output_type": "execute_result"
    }
   ],
   "source": [
    "#create\n",
    "data = {\n",
    "    \"name\":[\"a\",\"b\",\"c\"],\n",
    "    \"age\":[28,25,32]\n",
    "}\n",
    "df = pd.DataFrame(data)\n",
    "df"
   ],
   "metadata": {
    "collapsed": false,
    "ExecuteTime": {
     "end_time": "2024-06-07T11:28:41.399956900Z",
     "start_time": "2024-06-07T11:28:41.293554500Z"
    }
   }
  },
  {
   "cell_type": "code",
   "execution_count": 59,
   "outputs": [
    {
     "data": {
      "text/plain": "      Name  Age  Salary\n0    hasan   32    1000\n1      ali   33    4000\n2    vahid   32    2500\n3   behnam   33    3400\n4  mahmoud   30    2400\n5    zahra   28    3300\n6   maryam   28    2700",
      "text/html": "<div>\n<style scoped>\n    .dataframe tbody tr th:only-of-type {\n        vertical-align: middle;\n    }\n\n    .dataframe tbody tr th {\n        vertical-align: top;\n    }\n\n    .dataframe thead th {\n        text-align: right;\n    }\n</style>\n<table border=\"1\" class=\"dataframe\">\n  <thead>\n    <tr style=\"text-align: right;\">\n      <th></th>\n      <th>Name</th>\n      <th>Age</th>\n      <th>Salary</th>\n    </tr>\n  </thead>\n  <tbody>\n    <tr>\n      <th>0</th>\n      <td>hasan</td>\n      <td>32</td>\n      <td>1000</td>\n    </tr>\n    <tr>\n      <th>1</th>\n      <td>ali</td>\n      <td>33</td>\n      <td>4000</td>\n    </tr>\n    <tr>\n      <th>2</th>\n      <td>vahid</td>\n      <td>32</td>\n      <td>2500</td>\n    </tr>\n    <tr>\n      <th>3</th>\n      <td>behnam</td>\n      <td>33</td>\n      <td>3400</td>\n    </tr>\n    <tr>\n      <th>4</th>\n      <td>mahmoud</td>\n      <td>30</td>\n      <td>2400</td>\n    </tr>\n    <tr>\n      <th>5</th>\n      <td>zahra</td>\n      <td>28</td>\n      <td>3300</td>\n    </tr>\n    <tr>\n      <th>6</th>\n      <td>maryam</td>\n      <td>28</td>\n      <td>2700</td>\n    </tr>\n  </tbody>\n</table>\n</div>"
     },
     "execution_count": 59,
     "metadata": {},
     "output_type": "execute_result"
    }
   ],
   "source": [
    "#read\n",
    "df = pd.read_csv(\"data.csv\")\n",
    "df"
   ],
   "metadata": {
    "collapsed": false,
    "ExecuteTime": {
     "end_time": "2024-06-07T11:28:41.582151300Z",
     "start_time": "2024-06-07T11:28:41.305810900Z"
    }
   }
  },
  {
   "cell_type": "code",
   "execution_count": 60,
   "outputs": [
    {
     "data": {
      "text/plain": "      Name  Age  Salary\n0    hasan   32    1000\n1      ali   33    4000\n2    vahid   32    2500\n3   behnam   33    3400\n4  mahmoud   30    2400",
      "text/html": "<div>\n<style scoped>\n    .dataframe tbody tr th:only-of-type {\n        vertical-align: middle;\n    }\n\n    .dataframe tbody tr th {\n        vertical-align: top;\n    }\n\n    .dataframe thead th {\n        text-align: right;\n    }\n</style>\n<table border=\"1\" class=\"dataframe\">\n  <thead>\n    <tr style=\"text-align: right;\">\n      <th></th>\n      <th>Name</th>\n      <th>Age</th>\n      <th>Salary</th>\n    </tr>\n  </thead>\n  <tbody>\n    <tr>\n      <th>0</th>\n      <td>hasan</td>\n      <td>32</td>\n      <td>1000</td>\n    </tr>\n    <tr>\n      <th>1</th>\n      <td>ali</td>\n      <td>33</td>\n      <td>4000</td>\n    </tr>\n    <tr>\n      <th>2</th>\n      <td>vahid</td>\n      <td>32</td>\n      <td>2500</td>\n    </tr>\n    <tr>\n      <th>3</th>\n      <td>behnam</td>\n      <td>33</td>\n      <td>3400</td>\n    </tr>\n    <tr>\n      <th>4</th>\n      <td>mahmoud</td>\n      <td>30</td>\n      <td>2400</td>\n    </tr>\n  </tbody>\n</table>\n</div>"
     },
     "execution_count": 60,
     "metadata": {},
     "output_type": "execute_result"
    }
   ],
   "source": [
    "df.head()"
   ],
   "metadata": {
    "collapsed": false,
    "ExecuteTime": {
     "end_time": "2024-06-07T11:28:41.583204100Z",
     "start_time": "2024-06-07T11:28:41.323765500Z"
    }
   }
  },
  {
   "cell_type": "code",
   "execution_count": 61,
   "outputs": [
    {
     "data": {
      "text/plain": "             Age       Salary\ncount   7.000000     7.000000\nmean   30.857143  2757.142857\nstd     2.193063   960.654539\nmin    28.000000  1000.000000\n25%    29.000000  2450.000000\n50%    32.000000  2700.000000\n75%    32.500000  3350.000000\nmax    33.000000  4000.000000",
      "text/html": "<div>\n<style scoped>\n    .dataframe tbody tr th:only-of-type {\n        vertical-align: middle;\n    }\n\n    .dataframe tbody tr th {\n        vertical-align: top;\n    }\n\n    .dataframe thead th {\n        text-align: right;\n    }\n</style>\n<table border=\"1\" class=\"dataframe\">\n  <thead>\n    <tr style=\"text-align: right;\">\n      <th></th>\n      <th>Age</th>\n      <th>Salary</th>\n    </tr>\n  </thead>\n  <tbody>\n    <tr>\n      <th>count</th>\n      <td>7.000000</td>\n      <td>7.000000</td>\n    </tr>\n    <tr>\n      <th>mean</th>\n      <td>30.857143</td>\n      <td>2757.142857</td>\n    </tr>\n    <tr>\n      <th>std</th>\n      <td>2.193063</td>\n      <td>960.654539</td>\n    </tr>\n    <tr>\n      <th>min</th>\n      <td>28.000000</td>\n      <td>1000.000000</td>\n    </tr>\n    <tr>\n      <th>25%</th>\n      <td>29.000000</td>\n      <td>2450.000000</td>\n    </tr>\n    <tr>\n      <th>50%</th>\n      <td>32.000000</td>\n      <td>2700.000000</td>\n    </tr>\n    <tr>\n      <th>75%</th>\n      <td>32.500000</td>\n      <td>3350.000000</td>\n    </tr>\n    <tr>\n      <th>max</th>\n      <td>33.000000</td>\n      <td>4000.000000</td>\n    </tr>\n  </tbody>\n</table>\n</div>"
     },
     "execution_count": 61,
     "metadata": {},
     "output_type": "execute_result"
    }
   ],
   "source": [
    "df.describe()"
   ],
   "metadata": {
    "collapsed": false,
    "ExecuteTime": {
     "end_time": "2024-06-07T11:28:41.584224700Z",
     "start_time": "2024-06-07T11:28:41.335885600Z"
    }
   }
  },
  {
   "cell_type": "code",
   "execution_count": 62,
   "outputs": [
    {
     "data": {
      "text/plain": "0      hasan\n1        ali\n2      vahid\n3     behnam\n4    mahmoud\n5      zahra\n6     maryam\nName: Name, dtype: object"
     },
     "execution_count": 62,
     "metadata": {},
     "output_type": "execute_result"
    }
   ],
   "source": [
    "df[\"Name\"]"
   ],
   "metadata": {
    "collapsed": false,
    "ExecuteTime": {
     "end_time": "2024-06-07T11:28:41.585168200Z",
     "start_time": "2024-06-07T11:28:41.353468400Z"
    }
   }
  },
  {
   "cell_type": "markdown",
   "source": [],
   "metadata": {
    "collapsed": false
   }
  },
  {
   "cell_type": "code",
   "execution_count": 63,
   "outputs": [
    {
     "data": {
      "text/plain": "Name      vahid\nAge          32\nSalary     2500\nName: 2, dtype: object"
     },
     "execution_count": 63,
     "metadata": {},
     "output_type": "execute_result"
    }
   ],
   "source": [
    "df.iloc[2,:]"
   ],
   "metadata": {
    "collapsed": false,
    "ExecuteTime": {
     "end_time": "2024-06-07T11:28:41.585168200Z",
     "start_time": "2024-06-07T11:28:41.365530200Z"
    }
   }
  },
  {
   "cell_type": "code",
   "execution_count": 64,
   "outputs": [
    {
     "data": {
      "text/plain": "2400"
     },
     "execution_count": 64,
     "metadata": {},
     "output_type": "execute_result"
    }
   ],
   "source": [
    "df.iloc[4,2]"
   ],
   "metadata": {
    "collapsed": false,
    "ExecuteTime": {
     "end_time": "2024-06-07T11:28:41.585168200Z",
     "start_time": "2024-06-07T11:28:41.377399700Z"
    }
   }
  },
  {
   "cell_type": "code",
   "execution_count": 65,
   "outputs": [
    {
     "data": {
      "text/plain": "     Name  Age  Salary\n1     ali   33    4000\n3  behnam   33    3400\n5   zahra   28    3300\n6  maryam   28    2700",
      "text/html": "<div>\n<style scoped>\n    .dataframe tbody tr th:only-of-type {\n        vertical-align: middle;\n    }\n\n    .dataframe tbody tr th {\n        vertical-align: top;\n    }\n\n    .dataframe thead th {\n        text-align: right;\n    }\n</style>\n<table border=\"1\" class=\"dataframe\">\n  <thead>\n    <tr style=\"text-align: right;\">\n      <th></th>\n      <th>Name</th>\n      <th>Age</th>\n      <th>Salary</th>\n    </tr>\n  </thead>\n  <tbody>\n    <tr>\n      <th>1</th>\n      <td>ali</td>\n      <td>33</td>\n      <td>4000</td>\n    </tr>\n    <tr>\n      <th>3</th>\n      <td>behnam</td>\n      <td>33</td>\n      <td>3400</td>\n    </tr>\n    <tr>\n      <th>5</th>\n      <td>zahra</td>\n      <td>28</td>\n      <td>3300</td>\n    </tr>\n    <tr>\n      <th>6</th>\n      <td>maryam</td>\n      <td>28</td>\n      <td>2700</td>\n    </tr>\n  </tbody>\n</table>\n</div>"
     },
     "execution_count": 65,
     "metadata": {},
     "output_type": "execute_result"
    }
   ],
   "source": [
    "#filter\n",
    "f_df = df[df[\"Salary\"]>2500]\n",
    "f_df"
   ],
   "metadata": {
    "collapsed": false,
    "ExecuteTime": {
     "end_time": "2024-06-07T11:28:41.585168200Z",
     "start_time": "2024-06-07T11:28:41.385015Z"
    }
   }
  },
  {
   "cell_type": "code",
   "execution_count": 66,
   "outputs": [
    {
     "data": {
      "text/plain": "      Name  Age  Salary\n0    hasan   32    1000\n4  mahmoud   30    2400\n2    vahid   32    2500\n6   maryam   28    2700\n5    zahra   28    3300\n3   behnam   33    3400\n1      ali   33    4000",
      "text/html": "<div>\n<style scoped>\n    .dataframe tbody tr th:only-of-type {\n        vertical-align: middle;\n    }\n\n    .dataframe tbody tr th {\n        vertical-align: top;\n    }\n\n    .dataframe thead th {\n        text-align: right;\n    }\n</style>\n<table border=\"1\" class=\"dataframe\">\n  <thead>\n    <tr style=\"text-align: right;\">\n      <th></th>\n      <th>Name</th>\n      <th>Age</th>\n      <th>Salary</th>\n    </tr>\n  </thead>\n  <tbody>\n    <tr>\n      <th>0</th>\n      <td>hasan</td>\n      <td>32</td>\n      <td>1000</td>\n    </tr>\n    <tr>\n      <th>4</th>\n      <td>mahmoud</td>\n      <td>30</td>\n      <td>2400</td>\n    </tr>\n    <tr>\n      <th>2</th>\n      <td>vahid</td>\n      <td>32</td>\n      <td>2500</td>\n    </tr>\n    <tr>\n      <th>6</th>\n      <td>maryam</td>\n      <td>28</td>\n      <td>2700</td>\n    </tr>\n    <tr>\n      <th>5</th>\n      <td>zahra</td>\n      <td>28</td>\n      <td>3300</td>\n    </tr>\n    <tr>\n      <th>3</th>\n      <td>behnam</td>\n      <td>33</td>\n      <td>3400</td>\n    </tr>\n    <tr>\n      <th>1</th>\n      <td>ali</td>\n      <td>33</td>\n      <td>4000</td>\n    </tr>\n  </tbody>\n</table>\n</div>"
     },
     "execution_count": 66,
     "metadata": {},
     "output_type": "execute_result"
    }
   ],
   "source": [
    "#sort\n",
    "df_sorted = df.sort_values(\"Salary\", ascending=True)\n",
    "df_sorted"
   ],
   "metadata": {
    "collapsed": false,
    "ExecuteTime": {
     "end_time": "2024-06-07T11:28:41.586305400Z",
     "start_time": "2024-06-07T11:28:41.396957400Z"
    }
   }
  },
  {
   "cell_type": "code",
   "execution_count": 67,
   "outputs": [
    {
     "data": {
      "text/plain": "      Name  Age  Salary\n1      ali   33    4000\n3   behnam   33    3400\n5    zahra   28    3300\n6   maryam   28    2700\n2    vahid   32    2500\n4  mahmoud   30    2400\n0    hasan   32    1000",
      "text/html": "<div>\n<style scoped>\n    .dataframe tbody tr th:only-of-type {\n        vertical-align: middle;\n    }\n\n    .dataframe tbody tr th {\n        vertical-align: top;\n    }\n\n    .dataframe thead th {\n        text-align: right;\n    }\n</style>\n<table border=\"1\" class=\"dataframe\">\n  <thead>\n    <tr style=\"text-align: right;\">\n      <th></th>\n      <th>Name</th>\n      <th>Age</th>\n      <th>Salary</th>\n    </tr>\n  </thead>\n  <tbody>\n    <tr>\n      <th>1</th>\n      <td>ali</td>\n      <td>33</td>\n      <td>4000</td>\n    </tr>\n    <tr>\n      <th>3</th>\n      <td>behnam</td>\n      <td>33</td>\n      <td>3400</td>\n    </tr>\n    <tr>\n      <th>5</th>\n      <td>zahra</td>\n      <td>28</td>\n      <td>3300</td>\n    </tr>\n    <tr>\n      <th>6</th>\n      <td>maryam</td>\n      <td>28</td>\n      <td>2700</td>\n    </tr>\n    <tr>\n      <th>2</th>\n      <td>vahid</td>\n      <td>32</td>\n      <td>2500</td>\n    </tr>\n    <tr>\n      <th>4</th>\n      <td>mahmoud</td>\n      <td>30</td>\n      <td>2400</td>\n    </tr>\n    <tr>\n      <th>0</th>\n      <td>hasan</td>\n      <td>32</td>\n      <td>1000</td>\n    </tr>\n  </tbody>\n</table>\n</div>"
     },
     "execution_count": 67,
     "metadata": {},
     "output_type": "execute_result"
    }
   ],
   "source": [
    "df_sorted = df.sort_values(\"Salary\", ascending=False)\n",
    "df_sorted"
   ],
   "metadata": {
    "collapsed": false,
    "ExecuteTime": {
     "end_time": "2024-06-07T11:28:41.586305400Z",
     "start_time": "2024-06-07T11:28:41.411490500Z"
    }
   }
  },
  {
   "cell_type": "code",
   "execution_count": 68,
   "outputs": [
    {
     "data": {
      "text/plain": "      Name  Age\n2    vahid   32\n3   behnam   33\n4  mahmoud   30",
      "text/html": "<div>\n<style scoped>\n    .dataframe tbody tr th:only-of-type {\n        vertical-align: middle;\n    }\n\n    .dataframe tbody tr th {\n        vertical-align: top;\n    }\n\n    .dataframe thead th {\n        text-align: right;\n    }\n</style>\n<table border=\"1\" class=\"dataframe\">\n  <thead>\n    <tr style=\"text-align: right;\">\n      <th></th>\n      <th>Name</th>\n      <th>Age</th>\n    </tr>\n  </thead>\n  <tbody>\n    <tr>\n      <th>2</th>\n      <td>vahid</td>\n      <td>32</td>\n    </tr>\n    <tr>\n      <th>3</th>\n      <td>behnam</td>\n      <td>33</td>\n    </tr>\n    <tr>\n      <th>4</th>\n      <td>mahmoud</td>\n      <td>30</td>\n    </tr>\n  </tbody>\n</table>\n</div>"
     },
     "execution_count": 68,
     "metadata": {},
     "output_type": "execute_result"
    }
   ],
   "source": [
    "#subset (trim)\n",
    "ss=df.loc[2:4, [\"Name\", \"Age\"]]\n",
    "ss"
   ],
   "metadata": {
    "collapsed": false,
    "ExecuteTime": {
     "end_time": "2024-06-07T11:28:41.586305400Z",
     "start_time": "2024-06-07T11:28:41.422963900Z"
    }
   }
  },
  {
   "cell_type": "code",
   "execution_count": 69,
   "outputs": [
    {
     "data": {
      "text/plain": "<pandas.core.groupby.generic.DataFrameGroupBy object at 0x0000012214237110>"
     },
     "execution_count": 69,
     "metadata": {},
     "output_type": "execute_result"
    }
   ],
   "source": [
    "#group\n",
    "df_grouped = df.groupby(\"Age\")\n",
    "df_grouped"
   ],
   "metadata": {
    "collapsed": false,
    "ExecuteTime": {
     "end_time": "2024-06-07T11:28:41.625320800Z",
     "start_time": "2024-06-07T11:28:41.435872400Z"
    }
   }
  },
  {
   "cell_type": "code",
   "execution_count": 70,
   "outputs": [
    {
     "data": {
      "text/plain": "      Name  Age  Salary\n0    hasan   32    1000\n1      ali   33    4000\n2    vahid   32    2500\n3   behnam   33    3400\n4  mahmoud   30    2400\n5    zahra   28    3300\n6   maryam   28    2700",
      "text/html": "<div>\n<style scoped>\n    .dataframe tbody tr th:only-of-type {\n        vertical-align: middle;\n    }\n\n    .dataframe tbody tr th {\n        vertical-align: top;\n    }\n\n    .dataframe thead th {\n        text-align: right;\n    }\n</style>\n<table border=\"1\" class=\"dataframe\">\n  <thead>\n    <tr style=\"text-align: right;\">\n      <th></th>\n      <th>Name</th>\n      <th>Age</th>\n      <th>Salary</th>\n    </tr>\n  </thead>\n  <tbody>\n    <tr>\n      <th>0</th>\n      <td>hasan</td>\n      <td>32</td>\n      <td>1000</td>\n    </tr>\n    <tr>\n      <th>1</th>\n      <td>ali</td>\n      <td>33</td>\n      <td>4000</td>\n    </tr>\n    <tr>\n      <th>2</th>\n      <td>vahid</td>\n      <td>32</td>\n      <td>2500</td>\n    </tr>\n    <tr>\n      <th>3</th>\n      <td>behnam</td>\n      <td>33</td>\n      <td>3400</td>\n    </tr>\n    <tr>\n      <th>4</th>\n      <td>mahmoud</td>\n      <td>30</td>\n      <td>2400</td>\n    </tr>\n    <tr>\n      <th>5</th>\n      <td>zahra</td>\n      <td>28</td>\n      <td>3300</td>\n    </tr>\n    <tr>\n      <th>6</th>\n      <td>maryam</td>\n      <td>28</td>\n      <td>2700</td>\n    </tr>\n  </tbody>\n</table>\n</div>"
     },
     "execution_count": 70,
     "metadata": {},
     "output_type": "execute_result"
    }
   ],
   "source": [
    "df"
   ],
   "metadata": {
    "collapsed": false,
    "ExecuteTime": {
     "end_time": "2024-06-07T11:28:41.626321900Z",
     "start_time": "2024-06-07T11:28:41.451361600Z"
    }
   }
  },
  {
   "cell_type": "code",
   "execution_count": 71,
   "outputs": [
    {
     "data": {
      "text/plain": "     Name  Salary\nAge              \n28      2       2\n30      1       1\n32      2       2\n33      2       2",
      "text/html": "<div>\n<style scoped>\n    .dataframe tbody tr th:only-of-type {\n        vertical-align: middle;\n    }\n\n    .dataframe tbody tr th {\n        vertical-align: top;\n    }\n\n    .dataframe thead th {\n        text-align: right;\n    }\n</style>\n<table border=\"1\" class=\"dataframe\">\n  <thead>\n    <tr style=\"text-align: right;\">\n      <th></th>\n      <th>Name</th>\n      <th>Salary</th>\n    </tr>\n    <tr>\n      <th>Age</th>\n      <th></th>\n      <th></th>\n    </tr>\n  </thead>\n  <tbody>\n    <tr>\n      <th>28</th>\n      <td>2</td>\n      <td>2</td>\n    </tr>\n    <tr>\n      <th>30</th>\n      <td>1</td>\n      <td>1</td>\n    </tr>\n    <tr>\n      <th>32</th>\n      <td>2</td>\n      <td>2</td>\n    </tr>\n    <tr>\n      <th>33</th>\n      <td>2</td>\n      <td>2</td>\n    </tr>\n  </tbody>\n</table>\n</div>"
     },
     "execution_count": 71,
     "metadata": {},
     "output_type": "execute_result"
    }
   ],
   "source": [
    "df_grouped.count()"
   ],
   "metadata": {
    "collapsed": false,
    "ExecuteTime": {
     "end_time": "2024-06-07T11:28:41.626321900Z",
     "start_time": "2024-06-07T11:28:41.461477600Z"
    }
   }
  },
  {
   "cell_type": "code",
   "execution_count": 72,
   "outputs": [],
   "source": [
    "#add a new column\n",
    "df[\"Test\"] = [1,2,3,4,5,6,7]"
   ],
   "metadata": {
    "collapsed": false,
    "ExecuteTime": {
     "end_time": "2024-06-07T11:28:41.626321900Z",
     "start_time": "2024-06-07T11:28:41.470969300Z"
    }
   }
  },
  {
   "cell_type": "code",
   "execution_count": 73,
   "outputs": [
    {
     "data": {
      "text/plain": "      Name  Age  Salary  Test\n0    hasan   32    1000     1\n1      ali   33    4000     2\n2    vahid   32    2500     3\n3   behnam   33    3400     4\n4  mahmoud   30    2400     5\n5    zahra   28    3300     6\n6   maryam   28    2700     7",
      "text/html": "<div>\n<style scoped>\n    .dataframe tbody tr th:only-of-type {\n        vertical-align: middle;\n    }\n\n    .dataframe tbody tr th {\n        vertical-align: top;\n    }\n\n    .dataframe thead th {\n        text-align: right;\n    }\n</style>\n<table border=\"1\" class=\"dataframe\">\n  <thead>\n    <tr style=\"text-align: right;\">\n      <th></th>\n      <th>Name</th>\n      <th>Age</th>\n      <th>Salary</th>\n      <th>Test</th>\n    </tr>\n  </thead>\n  <tbody>\n    <tr>\n      <th>0</th>\n      <td>hasan</td>\n      <td>32</td>\n      <td>1000</td>\n      <td>1</td>\n    </tr>\n    <tr>\n      <th>1</th>\n      <td>ali</td>\n      <td>33</td>\n      <td>4000</td>\n      <td>2</td>\n    </tr>\n    <tr>\n      <th>2</th>\n      <td>vahid</td>\n      <td>32</td>\n      <td>2500</td>\n      <td>3</td>\n    </tr>\n    <tr>\n      <th>3</th>\n      <td>behnam</td>\n      <td>33</td>\n      <td>3400</td>\n      <td>4</td>\n    </tr>\n    <tr>\n      <th>4</th>\n      <td>mahmoud</td>\n      <td>30</td>\n      <td>2400</td>\n      <td>5</td>\n    </tr>\n    <tr>\n      <th>5</th>\n      <td>zahra</td>\n      <td>28</td>\n      <td>3300</td>\n      <td>6</td>\n    </tr>\n    <tr>\n      <th>6</th>\n      <td>maryam</td>\n      <td>28</td>\n      <td>2700</td>\n      <td>7</td>\n    </tr>\n  </tbody>\n</table>\n</div>"
     },
     "execution_count": 73,
     "metadata": {},
     "output_type": "execute_result"
    }
   ],
   "source": [
    "df"
   ],
   "metadata": {
    "collapsed": false,
    "ExecuteTime": {
     "end_time": "2024-06-07T11:28:41.626321900Z",
     "start_time": "2024-06-07T11:28:41.477224300Z"
    }
   }
  },
  {
   "cell_type": "code",
   "execution_count": 74,
   "outputs": [
    {
     "data": {
      "text/plain": "      Name  Age  Salary\n0    hasan   32    1000\n1      ali   33    4000\n2    vahid   32    2500\n3   behnam   33    3400\n4  mahmoud   30    2400\n5    zahra   28    3300\n6   maryam   28    2700",
      "text/html": "<div>\n<style scoped>\n    .dataframe tbody tr th:only-of-type {\n        vertical-align: middle;\n    }\n\n    .dataframe tbody tr th {\n        vertical-align: top;\n    }\n\n    .dataframe thead th {\n        text-align: right;\n    }\n</style>\n<table border=\"1\" class=\"dataframe\">\n  <thead>\n    <tr style=\"text-align: right;\">\n      <th></th>\n      <th>Name</th>\n      <th>Age</th>\n      <th>Salary</th>\n    </tr>\n  </thead>\n  <tbody>\n    <tr>\n      <th>0</th>\n      <td>hasan</td>\n      <td>32</td>\n      <td>1000</td>\n    </tr>\n    <tr>\n      <th>1</th>\n      <td>ali</td>\n      <td>33</td>\n      <td>4000</td>\n    </tr>\n    <tr>\n      <th>2</th>\n      <td>vahid</td>\n      <td>32</td>\n      <td>2500</td>\n    </tr>\n    <tr>\n      <th>3</th>\n      <td>behnam</td>\n      <td>33</td>\n      <td>3400</td>\n    </tr>\n    <tr>\n      <th>4</th>\n      <td>mahmoud</td>\n      <td>30</td>\n      <td>2400</td>\n    </tr>\n    <tr>\n      <th>5</th>\n      <td>zahra</td>\n      <td>28</td>\n      <td>3300</td>\n    </tr>\n    <tr>\n      <th>6</th>\n      <td>maryam</td>\n      <td>28</td>\n      <td>2700</td>\n    </tr>\n  </tbody>\n</table>\n</div>"
     },
     "execution_count": 74,
     "metadata": {},
     "output_type": "execute_result"
    }
   ],
   "source": [
    "#delete a column\n",
    "df.drop(\"Test\", axis=1, inplace=True)\n",
    "df"
   ],
   "metadata": {
    "collapsed": false,
    "ExecuteTime": {
     "end_time": "2024-06-07T11:28:41.626321900Z",
     "start_time": "2024-06-07T11:28:41.490080600Z"
    }
   }
  },
  {
   "cell_type": "code",
   "execution_count": 75,
   "outputs": [
    {
     "data": {
      "text/plain": "7"
     },
     "execution_count": 75,
     "metadata": {},
     "output_type": "execute_result"
    }
   ],
   "source": [
    "len(df)"
   ],
   "metadata": {
    "collapsed": false,
    "ExecuteTime": {
     "end_time": "2024-06-07T11:28:41.627321500Z",
     "start_time": "2024-06-07T11:28:41.502202300Z"
    }
   }
  },
  {
   "cell_type": "code",
   "execution_count": 76,
   "outputs": [
    {
     "data": {
      "text/plain": "      Name  Age  Salary\n0    hasan   32  1000.0\n1      ali   33  4000.0\n2    vahid   32  2500.0\n3   behnam   33  3400.0\n4  mahmoud   30  2400.0\n5    zahra   28  3300.0\n6   maryam   28  2700.0\n7     Test   22     NaN",
      "text/html": "<div>\n<style scoped>\n    .dataframe tbody tr th:only-of-type {\n        vertical-align: middle;\n    }\n\n    .dataframe tbody tr th {\n        vertical-align: top;\n    }\n\n    .dataframe thead th {\n        text-align: right;\n    }\n</style>\n<table border=\"1\" class=\"dataframe\">\n  <thead>\n    <tr style=\"text-align: right;\">\n      <th></th>\n      <th>Name</th>\n      <th>Age</th>\n      <th>Salary</th>\n    </tr>\n  </thead>\n  <tbody>\n    <tr>\n      <th>0</th>\n      <td>hasan</td>\n      <td>32</td>\n      <td>1000.0</td>\n    </tr>\n    <tr>\n      <th>1</th>\n      <td>ali</td>\n      <td>33</td>\n      <td>4000.0</td>\n    </tr>\n    <tr>\n      <th>2</th>\n      <td>vahid</td>\n      <td>32</td>\n      <td>2500.0</td>\n    </tr>\n    <tr>\n      <th>3</th>\n      <td>behnam</td>\n      <td>33</td>\n      <td>3400.0</td>\n    </tr>\n    <tr>\n      <th>4</th>\n      <td>mahmoud</td>\n      <td>30</td>\n      <td>2400.0</td>\n    </tr>\n    <tr>\n      <th>5</th>\n      <td>zahra</td>\n      <td>28</td>\n      <td>3300.0</td>\n    </tr>\n    <tr>\n      <th>6</th>\n      <td>maryam</td>\n      <td>28</td>\n      <td>2700.0</td>\n    </tr>\n    <tr>\n      <th>7</th>\n      <td>Test</td>\n      <td>22</td>\n      <td>NaN</td>\n    </tr>\n  </tbody>\n</table>\n</div>"
     },
     "execution_count": 76,
     "metadata": {},
     "output_type": "execute_result"
    }
   ],
   "source": [
    "#add a new row\n",
    "df.loc[len(df)] = {\n",
    "    \"Name\" : \"Test\",\n",
    "    \"Age\" : 22\n",
    "}\n",
    "df"
   ],
   "metadata": {
    "collapsed": false,
    "ExecuteTime": {
     "end_time": "2024-06-07T11:28:41.627321500Z",
     "start_time": "2024-06-07T11:28:41.509574900Z"
    }
   }
  },
  {
   "cell_type": "code",
   "execution_count": 77,
   "outputs": [
    {
     "data": {
      "text/plain": "    Name    Age  Salary\n0  False  False   False\n1  False  False   False\n2  False  False   False\n3  False  False   False\n4  False  False   False\n5  False  False   False\n6  False  False   False\n7  False  False    True",
      "text/html": "<div>\n<style scoped>\n    .dataframe tbody tr th:only-of-type {\n        vertical-align: middle;\n    }\n\n    .dataframe tbody tr th {\n        vertical-align: top;\n    }\n\n    .dataframe thead th {\n        text-align: right;\n    }\n</style>\n<table border=\"1\" class=\"dataframe\">\n  <thead>\n    <tr style=\"text-align: right;\">\n      <th></th>\n      <th>Name</th>\n      <th>Age</th>\n      <th>Salary</th>\n    </tr>\n  </thead>\n  <tbody>\n    <tr>\n      <th>0</th>\n      <td>False</td>\n      <td>False</td>\n      <td>False</td>\n    </tr>\n    <tr>\n      <th>1</th>\n      <td>False</td>\n      <td>False</td>\n      <td>False</td>\n    </tr>\n    <tr>\n      <th>2</th>\n      <td>False</td>\n      <td>False</td>\n      <td>False</td>\n    </tr>\n    <tr>\n      <th>3</th>\n      <td>False</td>\n      <td>False</td>\n      <td>False</td>\n    </tr>\n    <tr>\n      <th>4</th>\n      <td>False</td>\n      <td>False</td>\n      <td>False</td>\n    </tr>\n    <tr>\n      <th>5</th>\n      <td>False</td>\n      <td>False</td>\n      <td>False</td>\n    </tr>\n    <tr>\n      <th>6</th>\n      <td>False</td>\n      <td>False</td>\n      <td>False</td>\n    </tr>\n    <tr>\n      <th>7</th>\n      <td>False</td>\n      <td>False</td>\n      <td>True</td>\n    </tr>\n  </tbody>\n</table>\n</div>"
     },
     "execution_count": 77,
     "metadata": {},
     "output_type": "execute_result"
    }
   ],
   "source": [
    "df.isna()"
   ],
   "metadata": {
    "collapsed": false,
    "ExecuteTime": {
     "end_time": "2024-06-07T11:28:41.627321500Z",
     "start_time": "2024-06-07T11:28:41.522658900Z"
    }
   }
  },
  {
   "cell_type": "code",
   "execution_count": 78,
   "outputs": [],
   "source": [
    "df1 = df.dropna()"
   ],
   "metadata": {
    "collapsed": false,
    "ExecuteTime": {
     "end_time": "2024-06-07T11:28:41.627321500Z",
     "start_time": "2024-06-07T11:28:41.535353200Z"
    }
   }
  },
  {
   "cell_type": "code",
   "execution_count": 55,
   "outputs": [
    {
     "data": {
      "text/plain": "      Name  Age  Salary\n0    hasan   32  1000.0\n1      ali   33  4000.0\n2    vahid   32  2500.0\n3   behnam   33  3400.0\n4  mahmoud   30  2400.0\n5    zahra   28  3300.0\n6   maryam   28  2700.0",
      "text/html": "<div>\n<style scoped>\n    .dataframe tbody tr th:only-of-type {\n        vertical-align: middle;\n    }\n\n    .dataframe tbody tr th {\n        vertical-align: top;\n    }\n\n    .dataframe thead th {\n        text-align: right;\n    }\n</style>\n<table border=\"1\" class=\"dataframe\">\n  <thead>\n    <tr style=\"text-align: right;\">\n      <th></th>\n      <th>Name</th>\n      <th>Age</th>\n      <th>Salary</th>\n    </tr>\n  </thead>\n  <tbody>\n    <tr>\n      <th>0</th>\n      <td>hasan</td>\n      <td>32</td>\n      <td>1000.0</td>\n    </tr>\n    <tr>\n      <th>1</th>\n      <td>ali</td>\n      <td>33</td>\n      <td>4000.0</td>\n    </tr>\n    <tr>\n      <th>2</th>\n      <td>vahid</td>\n      <td>32</td>\n      <td>2500.0</td>\n    </tr>\n    <tr>\n      <th>3</th>\n      <td>behnam</td>\n      <td>33</td>\n      <td>3400.0</td>\n    </tr>\n    <tr>\n      <th>4</th>\n      <td>mahmoud</td>\n      <td>30</td>\n      <td>2400.0</td>\n    </tr>\n    <tr>\n      <th>5</th>\n      <td>zahra</td>\n      <td>28</td>\n      <td>3300.0</td>\n    </tr>\n    <tr>\n      <th>6</th>\n      <td>maryam</td>\n      <td>28</td>\n      <td>2700.0</td>\n    </tr>\n  </tbody>\n</table>\n</div>"
     },
     "execution_count": 55,
     "metadata": {},
     "output_type": "execute_result"
    }
   ],
   "source": [
    "df1"
   ],
   "metadata": {
    "collapsed": false,
    "ExecuteTime": {
     "end_time": "2024-06-07T11:28:34.774480300Z",
     "start_time": "2024-06-07T11:28:34.748261300Z"
    }
   }
  },
  {
   "cell_type": "code",
   "execution_count": 56,
   "outputs": [
    {
     "data": {
      "text/plain": "      Name  Age  Salary\n0    hasan   32  1000.0\n1      ali   33  4000.0\n2    vahid   32  2500.0\n3   behnam   33  3400.0\n4  mahmoud   30  2400.0\n5    zahra   28  3300.0\n6   maryam   28  2700.0\n7     Test   22     0.0",
      "text/html": "<div>\n<style scoped>\n    .dataframe tbody tr th:only-of-type {\n        vertical-align: middle;\n    }\n\n    .dataframe tbody tr th {\n        vertical-align: top;\n    }\n\n    .dataframe thead th {\n        text-align: right;\n    }\n</style>\n<table border=\"1\" class=\"dataframe\">\n  <thead>\n    <tr style=\"text-align: right;\">\n      <th></th>\n      <th>Name</th>\n      <th>Age</th>\n      <th>Salary</th>\n    </tr>\n  </thead>\n  <tbody>\n    <tr>\n      <th>0</th>\n      <td>hasan</td>\n      <td>32</td>\n      <td>1000.0</td>\n    </tr>\n    <tr>\n      <th>1</th>\n      <td>ali</td>\n      <td>33</td>\n      <td>4000.0</td>\n    </tr>\n    <tr>\n      <th>2</th>\n      <td>vahid</td>\n      <td>32</td>\n      <td>2500.0</td>\n    </tr>\n    <tr>\n      <th>3</th>\n      <td>behnam</td>\n      <td>33</td>\n      <td>3400.0</td>\n    </tr>\n    <tr>\n      <th>4</th>\n      <td>mahmoud</td>\n      <td>30</td>\n      <td>2400.0</td>\n    </tr>\n    <tr>\n      <th>5</th>\n      <td>zahra</td>\n      <td>28</td>\n      <td>3300.0</td>\n    </tr>\n    <tr>\n      <th>6</th>\n      <td>maryam</td>\n      <td>28</td>\n      <td>2700.0</td>\n    </tr>\n    <tr>\n      <th>7</th>\n      <td>Test</td>\n      <td>22</td>\n      <td>0.0</td>\n    </tr>\n  </tbody>\n</table>\n</div>"
     },
     "execution_count": 56,
     "metadata": {},
     "output_type": "execute_result"
    }
   ],
   "source": [
    "df2 = df.fillna(0)\n",
    "df2"
   ],
   "metadata": {
    "collapsed": false,
    "ExecuteTime": {
     "end_time": "2024-06-07T11:28:34.806335Z",
     "start_time": "2024-06-07T11:28:34.755730900Z"
    }
   }
  },
  {
   "cell_type": "code",
   "execution_count": 79,
   "outputs": [],
   "source": [
    "#write\n",
    "df.to_csv(\"new data.csv\")"
   ],
   "metadata": {
    "collapsed": false,
    "ExecuteTime": {
     "end_time": "2024-06-07T11:29:54.178439Z",
     "start_time": "2024-06-07T11:29:54.042793700Z"
    }
   }
  }
 ],
 "metadata": {
  "kernelspec": {
   "display_name": "Python 3",
   "language": "python",
   "name": "python3"
  },
  "language_info": {
   "codemirror_mode": {
    "name": "ipython",
    "version": 2
   },
   "file_extension": ".py",
   "mimetype": "text/x-python",
   "name": "python",
   "nbconvert_exporter": "python",
   "pygments_lexer": "ipython2",
   "version": "2.7.6"
  }
 },
 "nbformat": 4,
 "nbformat_minor": 0
}
